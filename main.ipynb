{
 "cells": [
  {
   "cell_type": "markdown",
   "id": "dd4ae007",
   "metadata": {},
   "source": [
    "## Mini mini proyecto paralela"
   ]
  },
  {
   "cell_type": "markdown",
   "id": "210e6a10",
   "metadata": {},
   "source": [
    "Paso 1: Estructuras de datos"
   ]
  },
  {
   "cell_type": "code",
   "execution_count": null,
   "id": "dc4f3c4f",
   "metadata": {
    "vscode": {
     "languageId": "plaintext"
    }
   },
   "outputs": [],
   "source": [
    "typedef struct {\n",
    "    int id;\n",
    "    int posicion;\n",
    "} Vehiculo;\n",
    "\n",
    "typedef enum { ROJO, VERDE, AMARILLO } EstadoSemaforo;\n",
    "\n",
    "typedef struct {\n",
    "    int id;\n",
    "    EstadoSemaforo estado;\n",
    "    int contador_cambio;  // cada N ciclos cambia\n",
    "} Semaforo;\n"
   ]
  },
  {
   "cell_type": "markdown",
   "id": "879df542",
   "metadata": {},
   "source": [
    "Paso 2: Inicialización"
   ]
  },
  {
   "cell_type": "markdown",
   "id": "6c52c601",
   "metadata": {},
   "source": [
    "Paso 3: Comportamiento de semáforos"
   ]
  },
  {
   "cell_type": "markdown",
   "id": "2a72f2e5",
   "metadata": {},
   "source": [
    "Paso 4: Movimiento de vehículos\n"
   ]
  },
  {
   "cell_type": "markdown",
   "id": "e2c25d00",
   "metadata": {},
   "source": [
    "Paso 5: Ciclo de simulación (SECUENCIAL)"
   ]
  }
 ],
 "metadata": {
  "language_info": {
   "name": "python"
  }
 },
 "nbformat": 4,
 "nbformat_minor": 5
}
